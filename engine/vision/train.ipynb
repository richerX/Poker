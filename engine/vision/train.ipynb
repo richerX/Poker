{
 "nbformat": 4,
 "nbformat_minor": 0,
 "metadata": {
  "colab": {
   "provenance": []
  },
  "kernelspec": {
   "name": "python3",
   "display_name": "Python 3"
  },
  "language_info": {
   "name": "python"
  },
  "accelerator": "GPU",
  "gpuClass": "standard"
 },
 "cells": [
  {
   "cell_type": "code",
   "source": [
    "!pip install ultralytics"
   ],
   "metadata": {
    "id": "6_hzD0DJ7wEo"
   },
   "execution_count": null,
   "outputs": []
  },
  {
   "cell_type": "code",
   "source": [
    "from google.colab import drive\n",
    "drive.mount('/content/drive')"
   ],
   "metadata": {
    "colab": {
     "base_uri": "https://localhost:8080/"
    },
    "id": "hKinILHU7tnh",
    "outputId": "fe95fa17-cfd2-4301-b460-aff65a870b6c",
    "pycharm": {
     "is_executing": true
    }
   },
   "execution_count": null,
   "outputs": []
  },
  {
   "cell_type": "code",
   "source": [
    "%cd /content/drive/My Drive/AI/"
   ],
   "metadata": {
    "colab": {
     "base_uri": "https://localhost:8080/"
    },
    "id": "jsm3ZbYO88cz",
    "outputId": "562f2438-9546-4bc9-f513-50c6e1ac7cc7",
    "pycharm": {
     "is_executing": true
    }
   },
   "execution_count": null,
   "outputs": []
  },
  {
   "cell_type": "code",
   "execution_count": null,
   "metadata": {
    "id": "c2UXm9MazJQt"
   },
   "outputs": [],
   "source": [
    "from ultralytics import YOLO\n",
    "\n",
    "model = YOLO(\"yolov8n.pt\")"
   ]
  },
  {
   "cell_type": "code",
   "source": [
    "# Dataset - https://www.kaggle.com/datasets/andy8744/playing-cards-object-detection-dataset/code\n",
    "model.train(data=\"data.yaml\", epochs=100, cache=True)\n",
    "model.val()"
   ],
   "metadata": {
    "colab": {
     "base_uri": "https://localhost:8080/"
    },
    "id": "-qtVpfX9ZWPJ",
    "outputId": "ad3407af-27b4-436a-e9b8-839cacc78553",
    "pycharm": {
     "is_executing": true
    }
   },
   "execution_count": null,
   "outputs": []
  },
  {
   "cell_type": "code",
   "source": [
    "model = YOLO(\"runs/detect/train/weights/best.pt\")\n",
    "results = model(\"card.jpg\")\n",
    "print(results)\n",
    "for result in results:\n",
    "    for cls in result.boxes.cls:\n",
    "        try:\n",
    "            print(model.names[int(cls)])\n",
    "        except:\n",
    "            print(int(cls))"
   ],
   "metadata": {
    "colab": {
     "base_uri": "https://localhost:8080/"
    },
    "id": "-snH1Bm2ZWKH",
    "outputId": "5d6b2d6e-9b48-4d7f-bf20-fdf993e7bd33",
    "pycharm": {
     "is_executing": true
    }
   },
   "execution_count": null,
   "outputs": []
  }
 ]
}
